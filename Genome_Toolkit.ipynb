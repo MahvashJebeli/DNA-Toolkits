{
 "cells": [
  {
   "cell_type": "markdown",
   "id": "f11ac5c0",
   "metadata": {},
   "source": [
    "# Seach for k-mers"
   ]
  },
  {
   "cell_type": "code",
   "execution_count": 4,
   "id": "15b0abed",
   "metadata": {},
   "outputs": [],
   "source": [
    "import random"
   ]
  },
  {
   "cell_type": "code",
   "execution_count": 5,
   "id": "406ba719",
   "metadata": {},
   "outputs": [],
   "source": [
    "# Structures\n",
    "Nucleotides = [\"A\", \"C\", \"G\", \"T\"]\n",
    "RNA_Nucleotides = [\"A\", \"C\", \"G\", \"U\"]\n",
    "DNA_ReverseComplement = {\"A\":\"T\", \"T\":\"A\", \"G\":\"C\", \"C\":\"G\"}"
   ]
  },
  {
   "cell_type": "code",
   "execution_count": 6,
   "id": "3bd58b2b",
   "metadata": {},
   "outputs": [],
   "source": [
    "# Check the sequence to see if it is a DNA string\n",
    "def ValidateSeq(dna_seq):\n",
    "    tmpseq = dna_seq.upper()\n",
    "    for nuc in tmpseq:\n",
    "        if nuc not in Nucleotides:\n",
    "            return False\n",
    "    return tmpseq"
   ]
  },
  {
   "cell_type": "code",
   "execution_count": 8,
   "id": "6214bf2f",
   "metadata": {},
   "outputs": [
    {
     "name": "stdout",
     "output_type": "stream",
     "text": [
      "CTGCGGGTAACAATAGCGGGCCGCCTAGGATATATCTCACGCGGCAAGTT\n"
     ]
    }
   ],
   "source": [
    "sequence = ''.join([random.choice(Nucleotides) for nuc in range(50)])\n",
    "print(ValidateSeq(sequence))\n",
    "\n",
    "kmer = \"AA\""
   ]
  },
  {
   "cell_type": "code",
   "execution_count": 11,
   "id": "9a8d5dfb",
   "metadata": {},
   "outputs": [
    {
     "name": "stdout",
     "output_type": "stream",
     "text": [
      "3\n"
     ]
    }
   ],
   "source": [
    "def count_kmer(sequence, kmer):\n",
    "    \"\"\"Counts repeating k-mers in a sequence. Including overlapping ones\"\"\"\n",
    "    kmer_count = 0\n",
    "    for position in range(len(sequence)-(len(kmer)-1)):\n",
    "        if sequence[position:position+len(kmer)] == kmer:\n",
    "            kmer_count += 1\n",
    "    return kmer_count\n",
    "\n",
    "print(count_kmer(sequence, kmer))"
   ]
  },
  {
   "cell_type": "code",
   "execution_count": 13,
   "id": "0015b9b5",
   "metadata": {},
   "outputs": [
    {
     "name": "stdout",
     "output_type": "stream",
     "text": [
      "['GCGGG']\n"
     ]
    }
   ],
   "source": [
    "def most_frequent_kmers(sequence, k_len):\n",
    "    \"\"\"finds the most frequent k-mers of a given length in s DNA string\n",
    "        return a list of the most frequent k-mers in the DNA string\"\"\"\n",
    "    kmer_frequencies = {}\n",
    "    \n",
    "    for i in range(len(sequence) - k_len + 1):\n",
    "        kmer = sequence[i:i+k_len]\n",
    "        if kmer in kmer_frequencies:\n",
    "            kmer_frequencies[kmer] += 1\n",
    "        else:\n",
    "            kmer_frequencies[kmer] = 1\n",
    "    \n",
    "    highest_frequency = max(kmer_frequencies.values())\n",
    "    \n",
    "    return[\n",
    "        kmer for kmer,frequency in kmer_frequencies.items()\n",
    "        if frequency == highest_frequency\n",
    "    ]\n",
    "\n",
    "print(most_frequent_kmers(sequence, 5))"
   ]
  }
 ],
 "metadata": {
  "kernelspec": {
   "display_name": "Python 3 (ipykernel)",
   "language": "python",
   "name": "python3"
  },
  "language_info": {
   "codemirror_mode": {
    "name": "ipython",
    "version": 3
   },
   "file_extension": ".py",
   "mimetype": "text/x-python",
   "name": "python",
   "nbconvert_exporter": "python",
   "pygments_lexer": "ipython3",
   "version": "3.9.17"
  }
 },
 "nbformat": 4,
 "nbformat_minor": 5
}
