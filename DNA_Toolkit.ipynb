{
 "cells": [
  {
   "cell_type": "code",
   "execution_count": null,
   "id": "187b5f19",
   "metadata": {},
   "outputs": [],
   "source": [
    "import random\n",
    "import collections"
   ]
  },
  {
   "cell_type": "code",
   "execution_count": null,
   "id": "9a4d69ef",
   "metadata": {},
   "outputs": [],
   "source": [
    "# Structures\n",
    "Nucleotides = [\"A\", \"C\", \"G\", \"T\"]\n",
    "RNA_Nucleotides = [\"A\", \"C\", \"G\", \"U\"]\n",
    "DNA_ReverseComplement = {\"A\":\"T\", \"T\":\"A\", \"G\":\"C\", \"C\":\"G\"}"
   ]
  },
  {
   "cell_type": "code",
   "execution_count": null,
   "id": "8bd7fb32",
   "metadata": {},
   "outputs": [],
   "source": [
    "# Check the sequence to see if it is a DNA string\n",
    "def ValidateSeq(dna_seq):\n",
    "    tmpseq = dna_seq.upper()\n",
    "    for nuc in tmpseq:\n",
    "        if nuc not in Nucleotides:\n",
    "            return False\n",
    "    return tmpseq"
   ]
  },
  {
   "cell_type": "code",
   "execution_count": null,
   "id": "f1e2bc70",
   "metadata": {},
   "outputs": [],
   "source": [
    "# DNAStr = ''.join([random.choice(Nucleotides) for nuc in range(50)])\n",
    "# print(ValidateSeq(DNAStr))"
   ]
  },
  {
   "cell_type": "markdown",
   "id": "98ea6df9",
   "metadata": {},
   "source": [
    "# Counting Nucleotides"
   ]
  },
  {
   "cell_type": "code",
   "execution_count": null,
   "id": "8fe4d93c",
   "metadata": {},
   "outputs": [],
   "source": [
    "def countNucFrequency(seq):\n",
    "    tmpFreq = { \"A\":0 , \"C\":0, \"G\":0, \"T\":0}\n",
    "    for nuc in seq:\n",
    "        if nuc in tmpFreq:\n",
    "            tmpFreq[nuc] += 1\n",
    "        else:\n",
    "            return False\n",
    "    return tmpFreq\n",
    "#     return(dict(collections.Counter(seq)))"
   ]
  },
  {
   "cell_type": "code",
   "execution_count": null,
   "id": "f2d21440",
   "metadata": {},
   "outputs": [],
   "source": [
    "# print(countNucFrequency(DNAStr))"
   ]
  },
  {
   "cell_type": "markdown",
   "id": "b4826f67",
   "metadata": {},
   "source": [
    "# Transcription"
   ]
  },
  {
   "cell_type": "code",
   "execution_count": null,
   "id": "c6377106",
   "metadata": {},
   "outputs": [],
   "source": [
    "def transcription(seq): \n",
    "    \"\"\"DNA -> RNA Transcription\"\"\"\n",
    "    return seq.replace(\"T\", \"U\")"
   ]
  },
  {
   "cell_type": "code",
   "execution_count": null,
   "id": "95c57eb5",
   "metadata": {},
   "outputs": [],
   "source": [
    "# print(transcription(DNAStr))"
   ]
  },
  {
   "cell_type": "markdown",
   "id": "041ab21c",
   "metadata": {},
   "source": [
    "# Reverse Complement"
   ]
  },
  {
   "cell_type": "code",
   "execution_count": null,
   "id": "e426e3c3",
   "metadata": {},
   "outputs": [],
   "source": [
    "def Reverse_Complement(seq):\n",
    "    \"\"\"Loop through the DNA reverse for each nucleotide in the seq, then reverse it!\"\"\"\n",
    "#     return ''.join([DNA_ReverseComplement[nuc] for nuc in seq])[::-1] \n",
    "    # faster solution:\n",
    "    mapping = str.maketrans('ATCG', 'TAGC')\n",
    "    return seq.translate(mapping)[::-1]"
   ]
  },
  {
   "cell_type": "code",
   "execution_count": null,
   "id": "7c60281a",
   "metadata": {},
   "outputs": [],
   "source": [
    "# print(f\"\\nDNA String + Complement + Reverse Complement:\\n\\n5' {DNAStr} 3' DNA String\")\n",
    "# print(f\"   {''.join(['|' for c in range(len(DNAStr))])}\")\n",
    "# print(f\"3' {Reverse_Complement(DNAStr)[::-1]} 5' Complement\")\n",
    "# print(f\"5' {Reverse_Complement(DNAStr)} 3' Reverse Complement\\n\")"
   ]
  },
  {
   "cell_type": "code",
   "execution_count": null,
   "id": "b13c31aa",
   "metadata": {},
   "outputs": [],
   "source": [
    "# Utilities!!\n",
    "\n",
    "# Coloring!\n",
    "def colored(seq):\n",
    "    colors= {\n",
    "        \"A\":'\\033[92m',\n",
    "        \"C\":'\\033[94m',\n",
    "        \"G\":'\\033[93m',\n",
    "        \"T\":'\\033[91m',\n",
    "        \"U\":'\\033[91m',\n",
    "        \"reset\":'\\033[0;0m'\n",
    "    }\n",
    "    \n",
    "    tmpStr = \"\"\n",
    "    for nuc in seq:\n",
    "        if nuc in colors:\n",
    "            tmpStr += colors[nuc]+nuc\n",
    "        else:\n",
    "            tmpStr += colors['reset']+nuc\n",
    "    return tmpStr + '\\033[0;0m'"
   ]
  },
  {
   "cell_type": "code",
   "execution_count": null,
   "id": "61f296b1",
   "metadata": {},
   "outputs": [],
   "source": [
    "# print(colored(DNAStr))\n",
    "# print(f\"\\nDNA String + Complement + Reverse Complement:\\n\\n5' {colored(DNAStr)} 3' DNA String\")\n",
    "# print(f\"   {''.join(['|' for c in range(len(DNAStr))])}\")\n",
    "# print(f\"3' {colored(Reverse_Complement(DNAStr)[::-1])} 5' Complement\")\n",
    "# print(f\"5' {colored(Reverse_Complement(DNAStr))} 3' Reverse Complement\\n\")"
   ]
  },
  {
   "cell_type": "markdown",
   "id": "0e9af619",
   "metadata": {},
   "source": [
    "# GC-content Calculations"
   ]
  },
  {
   "cell_type": "code",
   "execution_count": null,
   "id": "f0ce84d2",
   "metadata": {},
   "outputs": [],
   "source": [
    "def gc_content(seq):\n",
    "    \"\"\"GC content in DNA/RNA sequence\"\"\"\n",
    "    return round((seq.count('C') + seq.count('G'))/len(seq)*100)"
   ]
  },
  {
   "cell_type": "code",
   "execution_count": null,
   "id": "738e0f2b",
   "metadata": {},
   "outputs": [],
   "source": [
    "# print(f'GC Content: {gc_content(DNAStr)}%')"
   ]
  },
  {
   "cell_type": "code",
   "execution_count": null,
   "id": "c7e09a1f",
   "metadata": {},
   "outputs": [],
   "source": [
    "def gc_content_subsec(seq, k=20):\n",
    "    \"\"\"GC content in DNA/RNA subsequence with a length of k, default set to k=20\"\"\"\n",
    "    res = []\n",
    "    for i in range(0, len(seq)-k+1, k):\n",
    "        subseq = seq[i:i+k]\n",
    "        res.append(gc_content(subseq))\n",
    "    return res"
   ]
  },
  {
   "cell_type": "code",
   "execution_count": null,
   "id": "3a84a1b7",
   "metadata": {},
   "outputs": [],
   "source": [
    "# print(f'GC Content: {gc_content_subsec(DNAStr, k = 10)}%')"
   ]
  },
  {
   "cell_type": "markdown",
   "id": "34c79bdb",
   "metadata": {},
   "source": [
    "# DNA codons"
   ]
  },
  {
   "cell_type": "code",
   "execution_count": null,
   "id": "96161b72",
   "metadata": {},
   "outputs": [],
   "source": [
    "DNA_Codons = {\n",
    "    'TCA': 'S',    'TCC': 'S',    'TCG': 'S',    'TCT': 'S',    'AGC': 'S',    'AGT': 'S',    # Serina\n",
    "    'TTC': 'F',    'TTT': 'F',    # Fenilalanina\n",
    "    'TAC': 'Y',    'TAT': 'Y',    # Tirosina\n",
    "    'TAA': '_',    'TAG': '_',    'TGA': '_',    # Stop\n",
    "    'TGC': 'C',    'TGT': 'C',    # Cisteina\n",
    "    'TGG': 'W',    # Triptofano\n",
    "    'CTA': 'L',    'CTC': 'L',    'CTG': 'L',    'CTT': 'L',    'TTA': 'L',    'TTG': 'L',    # Leucina\n",
    "    'CCA': 'P',    'CCC': 'P',    'CCG': 'P',    'CCT': 'P',    # Prolina\n",
    "    'CAC': 'H',    'CAT': 'H',    # Histidina\n",
    "    'CAA': 'Q',    'CAG': 'Q',    # Glutamina\n",
    "    'CGA': 'R',    'CGC': 'R',    'CGG': 'R',    'CGT': 'R',    'AGA': 'R',    'AGG': 'R',    # Arginina\n",
    "    'ATA': 'I',    'ATC': 'I',    'ATT': 'I',    # Isoleucina\n",
    "    'ATG': 'M',    # Methionina\n",
    "    'ACA': 'T',    'ACC': 'T',    'ACG': 'T',    'ACT': 'T',    # Treonina\n",
    "    'AAC': 'N',    'AAT': 'N',    # Asparagina\n",
    "    'AAA': 'K',    'AAG': 'K',    # Lisina\n",
    "    'GTA': 'V',    'GTC': 'V',    'GTG': 'V',    'GTT': 'V',    # Valina\n",
    "    'GCA': 'A',    'GCC': 'A',    'GCG': 'A',    'GCT': 'A',    # Alanina\n",
    "    'GAC': 'D',    'GAT': 'D',    # Acido Aspartico\n",
    "    'GAA': 'E',    'GAG': 'E',    # Acido Glutamico\n",
    "    'GGA': 'G',    'GGC': 'G',    'GGG': 'G',    'GGT': 'G'     # Glicina\n",
    "}"
   ]
  },
  {
   "cell_type": "code",
   "execution_count": null,
   "id": "1ff2967e",
   "metadata": {},
   "outputs": [],
   "source": [
    "RNA_Codons = {\n",
    "'GCU':'A', 'GCC':'A', 'GCA':'A', 'GCG':'A',\n",
    "'UGU':'C', 'UGC':'C',\n",
    "'GAU':'D', 'GAC':'D',\n",
    "'UUU':'F', 'UUC':'F',\n",
    "'GGU':'G', 'GGC':'G', 'GGA':'G', 'GGG':'G',\n",
    "'CAU':'H', 'CAC':'H',\n",
    "'AUU':'I', 'AUC':'I', 'AUA':'I',\n",
    "'AAA':'K', 'AAG':'K',\n",
    "'UUA':'L', 'UUG':'L', 'CUU':'L', 'CUC':'L', 'CUA':'L', 'CUG':'L',\n",
    "'AUG':'M',\n",
    "'AAU':'N', 'AAC':'N',\n",
    "'CCU':'P', 'CCC':'P', 'CCA':'P', 'CCG':'P',\n",
    "'CAA':'Q', 'CAG':'Q',\n",
    "'CGU':'R', 'CGC':'R', 'CGA':'R', 'CGG':'R', 'AGA':'R', 'AGG':'R',\n",
    "'UCU':'S', 'UCC':'S', 'UCA':'S', 'UCG':'S', 'AGU':'S', 'AGC':'S',\n",
    "'ACU':'T', 'ACC':'T', 'ACA':'T', 'ACG':'T',\n",
    "'GUU':'V', 'GUC':'V', 'GUA':'V', 'GUG':'V',\n",
    "'UGG':'W',\n",
    "'UAU':'Y', 'UAC':'Y'}"
   ]
  },
  {
   "cell_type": "markdown",
   "id": "035d7699",
   "metadata": {},
   "source": [
    "# Translate DNA into aminoacid"
   ]
  },
  {
   "cell_type": "code",
   "execution_count": null,
   "id": "1092695c",
   "metadata": {},
   "outputs": [],
   "source": [
    "def translate_seq(seq, init_pos = 0):\n",
    "    \"\"\"Translating a DNA sequence into aminoacid sequence\"\"\"\n",
    "    return [DNA_Codons[seq[pos:pos+3]] for pos in range(init_pos, len(seq)-2, 3)]"
   ]
  },
  {
   "cell_type": "code",
   "execution_count": null,
   "id": "2b662679",
   "metadata": {},
   "outputs": [],
   "source": [
    "# print(f'Aminoacid sequence from DNA: {translate_seq(DNAStr)}')"
   ]
  },
  {
   "cell_type": "code",
   "execution_count": null,
   "id": "310370b7",
   "metadata": {},
   "outputs": [],
   "source": [
    "def codon_usage(seq, aminoacid):\n",
    "    \"\"\"shows the frequency of each codon in a DNA sequence\"\"\"\n",
    "    tmpList = []\n",
    "    for i in range(0,len(seq)-2,3):\n",
    "        if DNA_Codons[seq[i:i+3]] == aminoacid:\n",
    "            tmpList.append(seq[i:i+3])\n",
    "    freqDict = dict(collections.Counter(tmpList))\n",
    "    totalweight = sum(freqDict.values())\n",
    "    for seq in freqDict:\n",
    "        freqDict[seq] = round(freqDict[seq]/totalweight, 2)\n",
    "    return freqDict"
   ]
  },
  {
   "cell_type": "code",
   "execution_count": null,
   "id": "7b438b48",
   "metadata": {},
   "outputs": [],
   "source": [
    "# print(f' Codon frequency (T): {codon_usage(DNAStr, \"T\")} ')"
   ]
  },
  {
   "cell_type": "markdown",
   "id": "ac9c1ae3",
   "metadata": {},
   "source": [
    "\n",
    "# Ribosomes entering!\n"
   ]
  },
  {
   "cell_type": "code",
   "execution_count": null,
   "id": "b4766b48",
   "metadata": {},
   "outputs": [],
   "source": [
    "def open_reading_frames(seq):\n",
    "    \"\"\"generating th esix reading frames from a DNA sequence, wwith the reverse complement\"\"\"\n",
    "    frames = []\n",
    "    frames.append(translate_seq(seq, 0))\n",
    "    frames.append(translate_seq(seq, 1))\n",
    "    frames.append(translate_seq(seq, 2))\n",
    "    frames.append(translate_seq(Reverse_Complement(seq), 0))\n",
    "    frames.append(translate_seq(Reverse_Complement(seq), 1))\n",
    "    frames.append(translate_seq(Reverse_Complement(seq), 2)) # these six frames replicates ribosome functionality\n",
    "    return frames"
   ]
  },
  {
   "cell_type": "code",
   "execution_count": null,
   "id": "b774b9c0",
   "metadata": {},
   "outputs": [],
   "source": [
    "# print('Reading frames:')\n",
    "# frames = open_reading_frames(DNAStr)\n",
    "# print(frames)"
   ]
  },
  {
   "cell_type": "code",
   "execution_count": null,
   "id": "cee2f284",
   "metadata": {},
   "outputs": [],
   "source": [
    "# Reading aminoacids between start M and stop _ codons:\n",
    "def proteins_rf(aa_seq):\n",
    "    \"\"\"compute all possible proteins in an aminoacid seq and return a list of possble proteins\"\"\"\n",
    "    current_prot = []\n",
    "    proteins = []\n",
    "    for aa in aa_seq:\n",
    "        if aa != \"_\":\n",
    "            if aa == \"M\": # M start is found?\n",
    "                current_prot.append(\"\")\n",
    "            for i in range(len(current_prot)):\n",
    "                current_prot[i] += aa\n",
    "        elif aa == \"_\":\n",
    "            if current_prot:\n",
    "                for p in current_prot:\n",
    "                    proteins.append(p)\n",
    "                current_prot = []\n",
    "    return proteins"
   ]
  },
  {
   "cell_type": "code",
   "execution_count": null,
   "id": "6aaf7a51",
   "metadata": {},
   "outputs": [],
   "source": [
    "# for p in frames:\n",
    "# print(proteins_rf(['D', 'S', 'R', 'M', 'I', 'R', 'S', 'D', 'M', 'P', 'Q', 'S', 'Q', 'W', '_', 'V']))"
   ]
  },
  {
   "cell_type": "code",
   "execution_count": null,
   "id": "5bca39c7",
   "metadata": {},
   "outputs": [],
   "source": [
    "# def all_proteins_from_orfs(seq, startReadPos = 0, endReadPos = 0, ordered = False):\n",
    "#     \"\"\"Compute all possible proteins from all open reading frames\"\"\"\n",
    "#     if endReadPos > startReadPos:\n",
    "#         rfs = open_reading_frames(seq[startReadPos:endReadPos])\n",
    "#     else:\n",
    "#         rfs = open_reading_frames(seq)\n",
    "    \n",
    "#     res = []\n",
    "#     for rf in rfs:\n",
    "#         prots = proteins_rf(rf)\n",
    "#         for p in prots:\n",
    "#             res.append(p)\n",
    "    \n",
    "#     if ordered:\n",
    "#         return sorted(seq, key = len, reverse=True)\n",
    "#     return res"
   ]
  },
  {
   "cell_type": "markdown",
   "id": "b55f4578",
   "metadata": {},
   "source": [
    "# Finding proteins in DNA Sequence"
   ]
  },
  {
   "cell_type": "code",
   "execution_count": null,
   "id": "09d1b8be",
   "metadata": {},
   "outputs": [],
   "source": [
    "# Protein search database (to extract insulin): https://www.ncbi.nlm.nih.gov/nuccore/NM_001185097.2\n",
    "def all_proteins_from_orfs(seq, startReadPos=0, endReadPos=0, ordered=False):\n",
    "    \"\"\"Compute all possible proteins for all open reading frames\"\"\"\n",
    "    \"\"\"Protine Search DB: https://www.ncbi.nlm.nih.gov/nuccore/NM_001185097.2\"\"\"\n",
    "    \"\"\"API can be used to pull protein info\"\"\"\n",
    "    if endReadPos > startReadPos:\n",
    "        rfs = open_reading_frames(seq[startReadPos: endReadPos])\n",
    "    else:\n",
    "        rfs = open_reading_frames(seq)\n",
    "\n",
    "    res = []\n",
    "    for rf in rfs:\n",
    "        prots = proteins_rf(rf)\n",
    "        for p in prots:\n",
    "            res.append(p)\n",
    "\n",
    "    if ordered:\n",
    "        return sorted(res, key=len, reverse=True)\n",
    "    return res\n"
   ]
  },
  {
   "cell_type": "code",
   "execution_count": null,
   "id": "c06ff9d2",
   "metadata": {},
   "outputs": [],
   "source": [
    "# print('All proteins in 6 open reading frames:')\n",
    "# for prot in all_proteins_from_orfs(DNAStr, 0, 0, True):\n",
    "#     print(prot)"
   ]
  }
 ],
 "metadata": {
  "kernelspec": {
   "display_name": "Python 3 (ipykernel)",
   "language": "python",
   "name": "python3"
  },
  "language_info": {
   "codemirror_mode": {
    "name": "ipython",
    "version": 3
   },
   "file_extension": ".py",
   "mimetype": "text/x-python",
   "name": "python",
   "nbconvert_exporter": "python",
   "pygments_lexer": "ipython3",
   "version": "3.9.17"
  }
 },
 "nbformat": 4,
 "nbformat_minor": 5
}
