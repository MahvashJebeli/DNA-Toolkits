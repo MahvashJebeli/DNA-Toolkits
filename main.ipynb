{
 "cells": [
  {
   "cell_type": "code",
   "execution_count": 1,
   "id": "e271cac9",
   "metadata": {},
   "outputs": [],
   "source": [
    "from ipynb.fs.full.DNA_Toolkit import *\n",
    "# %run DNA_Toolkit.ipynb"
   ]
  },
  {
   "cell_type": "code",
   "execution_count": 14,
   "id": "d411c22c",
   "metadata": {},
   "outputs": [
    {
     "name": "stdout",
     "output_type": "stream",
     "text": [
      "AGCCCTCCAGGACAGGCTGCATCAGAAGAGGCCATCAAGCAGGTCTGTTCCAAGGGCCTTTGCGTCAGATCACTGTCCTTCTGCCATGGCCCTGTGGATGCGCCTCCTGCCCCTGCTGGCGCTGCTGGCCCTCTGGGGACCTGACCCAGCCGCAGCCTTTGTGAACCAACACCTGTGCGGCTCACACCTGGTGGAAGCTCTCTACCTAGTGTGCGGGGAACGAGGCTTCTTCTACACACCCAAGACCCGCCGGGAGGCAGAGGACCTGCAGGTGGGGCAGGTGGAGCTGGGCGGGGGCCCTGGTGCAGGCAGCCTGCAGCCCTTGGCCCTGGAGGGGTCCCTGCAGAAGCGTGGCATTGTGGAACAATGCTGTACCAGCATCTGCTCCCTCTACCAGCTGGAGAACTACTGCAACTAGACGCAGCCCGCAGGCAGCCCCACACCCGCCGCCTCCTGCACCGAGAGAGATGGAATAAAGCCCTTGAACCAGC\n"
     ]
    }
   ],
   "source": [
    "# DNAStr = ''.join([random.choice(Nucleotides) for nuc in range(50)])\n",
    "DNAStr = 'AGCCCTCCAGGACAGGCTGCATCAGAAGAGGCCATCAAGCAGGTCTGTTCCAAGGGCCTTTGCGTCAGATCACTGTCCTTCTGCCATGGCCCTGTGGATGCGCCTCCTGCCCCTGCTGGCGCTGCTGGCCCTCTGGGGACCTGACCCAGCCGCAGCCTTTGTGAACCAACACCTGTGCGGCTCACACCTGGTGGAAGCTCTCTACCTAGTGTGCGGGGAACGAGGCTTCTTCTACACACCCAAGACCCGCCGGGAGGCAGAGGACCTGCAGGTGGGGCAGGTGGAGCTGGGCGGGGGCCCTGGTGCAGGCAGCCTGCAGCCCTTGGCCCTGGAGGGGTCCCTGCAGAAGCGTGGCATTGTGGAACAATGCTGTACCAGCATCTGCTCCCTCTACCAGCTGGAGAACTACTGCAACTAGACGCAGCCCGCAGGCAGCCCCACACCCGCCGCCTCCTGCACCGAGAGAGATGGAATAAAGCCCTTGAACCAGC'\n",
    "print(ValidateSeq(DNAStr))"
   ]
  },
  {
   "cell_type": "code",
   "execution_count": 15,
   "id": "f7962bc4",
   "metadata": {},
   "outputs": [
    {
     "name": "stdout",
     "output_type": "stream",
     "text": [
      "{'A': 94, 'C': 163, 'G': 149, 'T': 85}\n"
     ]
    }
   ],
   "source": [
    "print(countNucFrequency(DNAStr))"
   ]
  },
  {
   "cell_type": "code",
   "execution_count": 16,
   "id": "0c2b5087",
   "metadata": {},
   "outputs": [
    {
     "name": "stdout",
     "output_type": "stream",
     "text": [
      "AGCCCUCCAGGACAGGCUGCAUCAGAAGAGGCCAUCAAGCAGGUCUGUUCCAAGGGCCUUUGCGUCAGAUCACUGUCCUUCUGCCAUGGCCCUGUGGAUGCGCCUCCUGCCCCUGCUGGCGCUGCUGGCCCUCUGGGGACCUGACCCAGCCGCAGCCUUUGUGAACCAACACCUGUGCGGCUCACACCUGGUGGAAGCUCUCUACCUAGUGUGCGGGGAACGAGGCUUCUUCUACACACCCAAGACCCGCCGGGAGGCAGAGGACCUGCAGGUGGGGCAGGUGGAGCUGGGCGGGGGCCCUGGUGCAGGCAGCCUGCAGCCCUUGGCCCUGGAGGGGUCCCUGCAGAAGCGUGGCAUUGUGGAACAAUGCUGUACCAGCAUCUGCUCCCUCUACCAGCUGGAGAACUACUGCAACUAGACGCAGCCCGCAGGCAGCCCCACACCCGCCGCCUCCUGCACCGAGAGAGAUGGAAUAAAGCCCUUGAACCAGC\n"
     ]
    }
   ],
   "source": [
    "print(transcription(DNAStr))"
   ]
  },
  {
   "cell_type": "code",
   "execution_count": 17,
   "id": "59617877",
   "metadata": {},
   "outputs": [
    {
     "name": "stdout",
     "output_type": "stream",
     "text": [
      "\n",
      "DNA String + Complement + Reverse Complement:\n",
      "\n",
      "5' AGCCCTCCAGGACAGGCTGCATCAGAAGAGGCCATCAAGCAGGTCTGTTCCAAGGGCCTTTGCGTCAGATCACTGTCCTTCTGCCATGGCCCTGTGGATGCGCCTCCTGCCCCTGCTGGCGCTGCTGGCCCTCTGGGGACCTGACCCAGCCGCAGCCTTTGTGAACCAACACCTGTGCGGCTCACACCTGGTGGAAGCTCTCTACCTAGTGTGCGGGGAACGAGGCTTCTTCTACACACCCAAGACCCGCCGGGAGGCAGAGGACCTGCAGGTGGGGCAGGTGGAGCTGGGCGGGGGCCCTGGTGCAGGCAGCCTGCAGCCCTTGGCCCTGGAGGGGTCCCTGCAGAAGCGTGGCATTGTGGAACAATGCTGTACCAGCATCTGCTCCCTCTACCAGCTGGAGAACTACTGCAACTAGACGCAGCCCGCAGGCAGCCCCACACCCGCCGCCTCCTGCACCGAGAGAGATGGAATAAAGCCCTTGAACCAGC 3' DNA String\n",
      "   |||||||||||||||||||||||||||||||||||||||||||||||||||||||||||||||||||||||||||||||||||||||||||||||||||||||||||||||||||||||||||||||||||||||||||||||||||||||||||||||||||||||||||||||||||||||||||||||||||||||||||||||||||||||||||||||||||||||||||||||||||||||||||||||||||||||||||||||||||||||||||||||||||||||||||||||||||||||||||||||||||||||||||||||||||||||||||||||||||||||||||||||||||||||||||||||||||||||||||||||||||||||||||||||||||||||||||||||||||||||||||||||||||||||||||||||||||||||||||||||||||||||||||\n",
      "3' TCGGGAGGTCCTGTCCGACGTAGTCTTCTCCGGTAGTTCGTCCAGACAAGGTTCCCGGAAACGCAGTCTAGTGACAGGAAGACGGTACCGGGACACCTACGCGGAGGACGGGGACGACCGCGACGACCGGGAGACCCCTGGACTGGGTCGGCGTCGGAAACACTTGGTTGTGGACACGCCGAGTGTGGACCACCTTCGAGAGATGGATCACACGCCCCTTGCTCCGAAGAAGATGTGTGGGTTCTGGGCGGCCCTCCGTCTCCTGGACGTCCACCCCGTCCACCTCGACCCGCCCCCGGGACCACGTCCGTCGGACGTCGGGAACCGGGACCTCCCCAGGGACGTCTTCGCACCGTAACACCTTGTTACGACATGGTCGTAGACGAGGGAGATGGTCGACCTCTTGATGACGTTGATCTGCGTCGGGCGTCCGTCGGGGTGTGGGCGGCGGAGGACGTGGCTCTCTCTACCTTATTTCGGGAACTTGGTCG 5' Complement\n",
      "5' GCTGGTTCAAGGGCTTTATTCCATCTCTCTCGGTGCAGGAGGCGGCGGGTGTGGGGCTGCCTGCGGGCTGCGTCTAGTTGCAGTAGTTCTCCAGCTGGTAGAGGGAGCAGATGCTGGTACAGCATTGTTCCACAATGCCACGCTTCTGCAGGGACCCCTCCAGGGCCAAGGGCTGCAGGCTGCCTGCACCAGGGCCCCCGCCCAGCTCCACCTGCCCCACCTGCAGGTCCTCTGCCTCCCGGCGGGTCTTGGGTGTGTAGAAGAAGCCTCGTTCCCCGCACACTAGGTAGAGAGCTTCCACCAGGTGTGAGCCGCACAGGTGTTGGTTCACAAAGGCTGCGGCTGGGTCAGGTCCCCAGAGGGCCAGCAGCGCCAGCAGGGGCAGGAGGCGCATCCACAGGGCCATGGCAGAAGGACAGTGATCTGACGCAAAGGCCCTTGGAACAGACCTGCTTGATGGCCTCTTCTGATGCAGCCTGTCCTGGAGGGCT 3' Reverse Complement\n",
      "\n"
     ]
    }
   ],
   "source": [
    "print(f\"\\nDNA String + Complement + Reverse Complement:\\n\\n5' {DNAStr} 3' DNA String\")\n",
    "print(f\"   {''.join(['|' for c in range(len(DNAStr))])}\")\n",
    "print(f\"3' {Reverse_Complement(DNAStr)[::-1]} 5' Complement\")\n",
    "print(f\"5' {Reverse_Complement(DNAStr)} 3' Reverse Complement\\n\")"
   ]
  },
  {
   "cell_type": "code",
   "execution_count": 18,
   "id": "df725564",
   "metadata": {},
   "outputs": [
    {
     "name": "stdout",
     "output_type": "stream",
     "text": [
      "\u001b[92mA\u001b[93mG\u001b[94mC\u001b[94mC\u001b[94mC\u001b[91mT\u001b[94mC\u001b[94mC\u001b[92mA\u001b[93mG\u001b[93mG\u001b[92mA\u001b[94mC\u001b[92mA\u001b[93mG\u001b[93mG\u001b[94mC\u001b[91mT\u001b[93mG\u001b[94mC\u001b[92mA\u001b[91mT\u001b[94mC\u001b[92mA\u001b[93mG\u001b[92mA\u001b[92mA\u001b[93mG\u001b[92mA\u001b[93mG\u001b[93mG\u001b[94mC\u001b[94mC\u001b[92mA\u001b[91mT\u001b[94mC\u001b[92mA\u001b[92mA\u001b[93mG\u001b[94mC\u001b[92mA\u001b[93mG\u001b[93mG\u001b[91mT\u001b[94mC\u001b[91mT\u001b[93mG\u001b[91mT\u001b[91mT\u001b[94mC\u001b[94mC\u001b[92mA\u001b[92mA\u001b[93mG\u001b[93mG\u001b[93mG\u001b[94mC\u001b[94mC\u001b[91mT\u001b[91mT\u001b[91mT\u001b[93mG\u001b[94mC\u001b[93mG\u001b[91mT\u001b[94mC\u001b[92mA\u001b[93mG\u001b[92mA\u001b[91mT\u001b[94mC\u001b[92mA\u001b[94mC\u001b[91mT\u001b[93mG\u001b[91mT\u001b[94mC\u001b[94mC\u001b[91mT\u001b[91mT\u001b[94mC\u001b[91mT\u001b[93mG\u001b[94mC\u001b[94mC\u001b[92mA\u001b[91mT\u001b[93mG\u001b[93mG\u001b[94mC\u001b[94mC\u001b[94mC\u001b[91mT\u001b[93mG\u001b[91mT\u001b[93mG\u001b[93mG\u001b[92mA\u001b[91mT\u001b[93mG\u001b[94mC\u001b[93mG\u001b[94mC\u001b[94mC\u001b[91mT\u001b[94mC\u001b[94mC\u001b[91mT\u001b[93mG\u001b[94mC\u001b[94mC\u001b[94mC\u001b[94mC\u001b[91mT\u001b[93mG\u001b[94mC\u001b[91mT\u001b[93mG\u001b[93mG\u001b[94mC\u001b[93mG\u001b[94mC\u001b[91mT\u001b[93mG\u001b[94mC\u001b[91mT\u001b[93mG\u001b[93mG\u001b[94mC\u001b[94mC\u001b[94mC\u001b[91mT\u001b[94mC\u001b[91mT\u001b[93mG\u001b[93mG\u001b[93mG\u001b[93mG\u001b[92mA\u001b[94mC\u001b[94mC\u001b[91mT\u001b[93mG\u001b[92mA\u001b[94mC\u001b[94mC\u001b[94mC\u001b[92mA\u001b[93mG\u001b[94mC\u001b[94mC\u001b[93mG\u001b[94mC\u001b[92mA\u001b[93mG\u001b[94mC\u001b[94mC\u001b[91mT\u001b[91mT\u001b[91mT\u001b[93mG\u001b[91mT\u001b[93mG\u001b[92mA\u001b[92mA\u001b[94mC\u001b[94mC\u001b[92mA\u001b[92mA\u001b[94mC\u001b[92mA\u001b[94mC\u001b[94mC\u001b[91mT\u001b[93mG\u001b[91mT\u001b[93mG\u001b[94mC\u001b[93mG\u001b[93mG\u001b[94mC\u001b[91mT\u001b[94mC\u001b[92mA\u001b[94mC\u001b[92mA\u001b[94mC\u001b[94mC\u001b[91mT\u001b[93mG\u001b[93mG\u001b[91mT\u001b[93mG\u001b[93mG\u001b[92mA\u001b[92mA\u001b[93mG\u001b[94mC\u001b[91mT\u001b[94mC\u001b[91mT\u001b[94mC\u001b[91mT\u001b[92mA\u001b[94mC\u001b[94mC\u001b[91mT\u001b[92mA\u001b[93mG\u001b[91mT\u001b[93mG\u001b[91mT\u001b[93mG\u001b[94mC\u001b[93mG\u001b[93mG\u001b[93mG\u001b[93mG\u001b[92mA\u001b[92mA\u001b[94mC\u001b[93mG\u001b[92mA\u001b[93mG\u001b[93mG\u001b[94mC\u001b[91mT\u001b[91mT\u001b[94mC\u001b[91mT\u001b[91mT\u001b[94mC\u001b[91mT\u001b[92mA\u001b[94mC\u001b[92mA\u001b[94mC\u001b[92mA\u001b[94mC\u001b[94mC\u001b[94mC\u001b[92mA\u001b[92mA\u001b[93mG\u001b[92mA\u001b[94mC\u001b[94mC\u001b[94mC\u001b[93mG\u001b[94mC\u001b[94mC\u001b[93mG\u001b[93mG\u001b[93mG\u001b[92mA\u001b[93mG\u001b[93mG\u001b[94mC\u001b[92mA\u001b[93mG\u001b[92mA\u001b[93mG\u001b[93mG\u001b[92mA\u001b[94mC\u001b[94mC\u001b[91mT\u001b[93mG\u001b[94mC\u001b[92mA\u001b[93mG\u001b[93mG\u001b[91mT\u001b[93mG\u001b[93mG\u001b[93mG\u001b[93mG\u001b[94mC\u001b[92mA\u001b[93mG\u001b[93mG\u001b[91mT\u001b[93mG\u001b[93mG\u001b[92mA\u001b[93mG\u001b[94mC\u001b[91mT\u001b[93mG\u001b[93mG\u001b[93mG\u001b[94mC\u001b[93mG\u001b[93mG\u001b[93mG\u001b[93mG\u001b[93mG\u001b[94mC\u001b[94mC\u001b[94mC\u001b[91mT\u001b[93mG\u001b[93mG\u001b[91mT\u001b[93mG\u001b[94mC\u001b[92mA\u001b[93mG\u001b[93mG\u001b[94mC\u001b[92mA\u001b[93mG\u001b[94mC\u001b[94mC\u001b[91mT\u001b[93mG\u001b[94mC\u001b[92mA\u001b[93mG\u001b[94mC\u001b[94mC\u001b[94mC\u001b[91mT\u001b[91mT\u001b[93mG\u001b[93mG\u001b[94mC\u001b[94mC\u001b[94mC\u001b[91mT\u001b[93mG\u001b[93mG\u001b[92mA\u001b[93mG\u001b[93mG\u001b[93mG\u001b[93mG\u001b[91mT\u001b[94mC\u001b[94mC\u001b[94mC\u001b[91mT\u001b[93mG\u001b[94mC\u001b[92mA\u001b[93mG\u001b[92mA\u001b[92mA\u001b[93mG\u001b[94mC\u001b[93mG\u001b[91mT\u001b[93mG\u001b[93mG\u001b[94mC\u001b[92mA\u001b[91mT\u001b[91mT\u001b[93mG\u001b[91mT\u001b[93mG\u001b[93mG\u001b[92mA\u001b[92mA\u001b[94mC\u001b[92mA\u001b[92mA\u001b[91mT\u001b[93mG\u001b[94mC\u001b[91mT\u001b[93mG\u001b[91mT\u001b[92mA\u001b[94mC\u001b[94mC\u001b[92mA\u001b[93mG\u001b[94mC\u001b[92mA\u001b[91mT\u001b[94mC\u001b[91mT\u001b[93mG\u001b[94mC\u001b[91mT\u001b[94mC\u001b[94mC\u001b[94mC\u001b[91mT\u001b[94mC\u001b[91mT\u001b[92mA\u001b[94mC\u001b[94mC\u001b[92mA\u001b[93mG\u001b[94mC\u001b[91mT\u001b[93mG\u001b[93mG\u001b[92mA\u001b[93mG\u001b[92mA\u001b[92mA\u001b[94mC\u001b[91mT\u001b[92mA\u001b[94mC\u001b[91mT\u001b[93mG\u001b[94mC\u001b[92mA\u001b[92mA\u001b[94mC\u001b[91mT\u001b[92mA\u001b[93mG\u001b[92mA\u001b[94mC\u001b[93mG\u001b[94mC\u001b[92mA\u001b[93mG\u001b[94mC\u001b[94mC\u001b[94mC\u001b[93mG\u001b[94mC\u001b[92mA\u001b[93mG\u001b[93mG\u001b[94mC\u001b[92mA\u001b[93mG\u001b[94mC\u001b[94mC\u001b[94mC\u001b[94mC\u001b[92mA\u001b[94mC\u001b[92mA\u001b[94mC\u001b[94mC\u001b[94mC\u001b[93mG\u001b[94mC\u001b[94mC\u001b[93mG\u001b[94mC\u001b[94mC\u001b[91mT\u001b[94mC\u001b[94mC\u001b[91mT\u001b[93mG\u001b[94mC\u001b[92mA\u001b[94mC\u001b[94mC\u001b[93mG\u001b[92mA\u001b[93mG\u001b[92mA\u001b[93mG\u001b[92mA\u001b[93mG\u001b[92mA\u001b[91mT\u001b[93mG\u001b[93mG\u001b[92mA\u001b[92mA\u001b[91mT\u001b[92mA\u001b[92mA\u001b[92mA\u001b[93mG\u001b[94mC\u001b[94mC\u001b[94mC\u001b[91mT\u001b[91mT\u001b[93mG\u001b[92mA\u001b[92mA\u001b[94mC\u001b[94mC\u001b[92mA\u001b[93mG\u001b[94mC\u001b[0;0m\n",
      "\n",
      "DNA String + Complement + Reverse Complement:\n",
      "\n",
      "5' \u001b[92mA\u001b[93mG\u001b[94mC\u001b[94mC\u001b[94mC\u001b[91mT\u001b[94mC\u001b[94mC\u001b[92mA\u001b[93mG\u001b[93mG\u001b[92mA\u001b[94mC\u001b[92mA\u001b[93mG\u001b[93mG\u001b[94mC\u001b[91mT\u001b[93mG\u001b[94mC\u001b[92mA\u001b[91mT\u001b[94mC\u001b[92mA\u001b[93mG\u001b[92mA\u001b[92mA\u001b[93mG\u001b[92mA\u001b[93mG\u001b[93mG\u001b[94mC\u001b[94mC\u001b[92mA\u001b[91mT\u001b[94mC\u001b[92mA\u001b[92mA\u001b[93mG\u001b[94mC\u001b[92mA\u001b[93mG\u001b[93mG\u001b[91mT\u001b[94mC\u001b[91mT\u001b[93mG\u001b[91mT\u001b[91mT\u001b[94mC\u001b[94mC\u001b[92mA\u001b[92mA\u001b[93mG\u001b[93mG\u001b[93mG\u001b[94mC\u001b[94mC\u001b[91mT\u001b[91mT\u001b[91mT\u001b[93mG\u001b[94mC\u001b[93mG\u001b[91mT\u001b[94mC\u001b[92mA\u001b[93mG\u001b[92mA\u001b[91mT\u001b[94mC\u001b[92mA\u001b[94mC\u001b[91mT\u001b[93mG\u001b[91mT\u001b[94mC\u001b[94mC\u001b[91mT\u001b[91mT\u001b[94mC\u001b[91mT\u001b[93mG\u001b[94mC\u001b[94mC\u001b[92mA\u001b[91mT\u001b[93mG\u001b[93mG\u001b[94mC\u001b[94mC\u001b[94mC\u001b[91mT\u001b[93mG\u001b[91mT\u001b[93mG\u001b[93mG\u001b[92mA\u001b[91mT\u001b[93mG\u001b[94mC\u001b[93mG\u001b[94mC\u001b[94mC\u001b[91mT\u001b[94mC\u001b[94mC\u001b[91mT\u001b[93mG\u001b[94mC\u001b[94mC\u001b[94mC\u001b[94mC\u001b[91mT\u001b[93mG\u001b[94mC\u001b[91mT\u001b[93mG\u001b[93mG\u001b[94mC\u001b[93mG\u001b[94mC\u001b[91mT\u001b[93mG\u001b[94mC\u001b[91mT\u001b[93mG\u001b[93mG\u001b[94mC\u001b[94mC\u001b[94mC\u001b[91mT\u001b[94mC\u001b[91mT\u001b[93mG\u001b[93mG\u001b[93mG\u001b[93mG\u001b[92mA\u001b[94mC\u001b[94mC\u001b[91mT\u001b[93mG\u001b[92mA\u001b[94mC\u001b[94mC\u001b[94mC\u001b[92mA\u001b[93mG\u001b[94mC\u001b[94mC\u001b[93mG\u001b[94mC\u001b[92mA\u001b[93mG\u001b[94mC\u001b[94mC\u001b[91mT\u001b[91mT\u001b[91mT\u001b[93mG\u001b[91mT\u001b[93mG\u001b[92mA\u001b[92mA\u001b[94mC\u001b[94mC\u001b[92mA\u001b[92mA\u001b[94mC\u001b[92mA\u001b[94mC\u001b[94mC\u001b[91mT\u001b[93mG\u001b[91mT\u001b[93mG\u001b[94mC\u001b[93mG\u001b[93mG\u001b[94mC\u001b[91mT\u001b[94mC\u001b[92mA\u001b[94mC\u001b[92mA\u001b[94mC\u001b[94mC\u001b[91mT\u001b[93mG\u001b[93mG\u001b[91mT\u001b[93mG\u001b[93mG\u001b[92mA\u001b[92mA\u001b[93mG\u001b[94mC\u001b[91mT\u001b[94mC\u001b[91mT\u001b[94mC\u001b[91mT\u001b[92mA\u001b[94mC\u001b[94mC\u001b[91mT\u001b[92mA\u001b[93mG\u001b[91mT\u001b[93mG\u001b[91mT\u001b[93mG\u001b[94mC\u001b[93mG\u001b[93mG\u001b[93mG\u001b[93mG\u001b[92mA\u001b[92mA\u001b[94mC\u001b[93mG\u001b[92mA\u001b[93mG\u001b[93mG\u001b[94mC\u001b[91mT\u001b[91mT\u001b[94mC\u001b[91mT\u001b[91mT\u001b[94mC\u001b[91mT\u001b[92mA\u001b[94mC\u001b[92mA\u001b[94mC\u001b[92mA\u001b[94mC\u001b[94mC\u001b[94mC\u001b[92mA\u001b[92mA\u001b[93mG\u001b[92mA\u001b[94mC\u001b[94mC\u001b[94mC\u001b[93mG\u001b[94mC\u001b[94mC\u001b[93mG\u001b[93mG\u001b[93mG\u001b[92mA\u001b[93mG\u001b[93mG\u001b[94mC\u001b[92mA\u001b[93mG\u001b[92mA\u001b[93mG\u001b[93mG\u001b[92mA\u001b[94mC\u001b[94mC\u001b[91mT\u001b[93mG\u001b[94mC\u001b[92mA\u001b[93mG\u001b[93mG\u001b[91mT\u001b[93mG\u001b[93mG\u001b[93mG\u001b[93mG\u001b[94mC\u001b[92mA\u001b[93mG\u001b[93mG\u001b[91mT\u001b[93mG\u001b[93mG\u001b[92mA\u001b[93mG\u001b[94mC\u001b[91mT\u001b[93mG\u001b[93mG\u001b[93mG\u001b[94mC\u001b[93mG\u001b[93mG\u001b[93mG\u001b[93mG\u001b[93mG\u001b[94mC\u001b[94mC\u001b[94mC\u001b[91mT\u001b[93mG\u001b[93mG\u001b[91mT\u001b[93mG\u001b[94mC\u001b[92mA\u001b[93mG\u001b[93mG\u001b[94mC\u001b[92mA\u001b[93mG\u001b[94mC\u001b[94mC\u001b[91mT\u001b[93mG\u001b[94mC\u001b[92mA\u001b[93mG\u001b[94mC\u001b[94mC\u001b[94mC\u001b[91mT\u001b[91mT\u001b[93mG\u001b[93mG\u001b[94mC\u001b[94mC\u001b[94mC\u001b[91mT\u001b[93mG\u001b[93mG\u001b[92mA\u001b[93mG\u001b[93mG\u001b[93mG\u001b[93mG\u001b[91mT\u001b[94mC\u001b[94mC\u001b[94mC\u001b[91mT\u001b[93mG\u001b[94mC\u001b[92mA\u001b[93mG\u001b[92mA\u001b[92mA\u001b[93mG\u001b[94mC\u001b[93mG\u001b[91mT\u001b[93mG\u001b[93mG\u001b[94mC\u001b[92mA\u001b[91mT\u001b[91mT\u001b[93mG\u001b[91mT\u001b[93mG\u001b[93mG\u001b[92mA\u001b[92mA\u001b[94mC\u001b[92mA\u001b[92mA\u001b[91mT\u001b[93mG\u001b[94mC\u001b[91mT\u001b[93mG\u001b[91mT\u001b[92mA\u001b[94mC\u001b[94mC\u001b[92mA\u001b[93mG\u001b[94mC\u001b[92mA\u001b[91mT\u001b[94mC\u001b[91mT\u001b[93mG\u001b[94mC\u001b[91mT\u001b[94mC\u001b[94mC\u001b[94mC\u001b[91mT\u001b[94mC\u001b[91mT\u001b[92mA\u001b[94mC\u001b[94mC\u001b[92mA\u001b[93mG\u001b[94mC\u001b[91mT\u001b[93mG\u001b[93mG\u001b[92mA\u001b[93mG\u001b[92mA\u001b[92mA\u001b[94mC\u001b[91mT\u001b[92mA\u001b[94mC\u001b[91mT\u001b[93mG\u001b[94mC\u001b[92mA\u001b[92mA\u001b[94mC\u001b[91mT\u001b[92mA\u001b[93mG\u001b[92mA\u001b[94mC\u001b[93mG\u001b[94mC\u001b[92mA\u001b[93mG\u001b[94mC\u001b[94mC\u001b[94mC\u001b[93mG\u001b[94mC\u001b[92mA\u001b[93mG\u001b[93mG\u001b[94mC\u001b[92mA\u001b[93mG\u001b[94mC\u001b[94mC\u001b[94mC\u001b[94mC\u001b[92mA\u001b[94mC\u001b[92mA\u001b[94mC\u001b[94mC\u001b[94mC\u001b[93mG\u001b[94mC\u001b[94mC\u001b[93mG\u001b[94mC\u001b[94mC\u001b[91mT\u001b[94mC\u001b[94mC\u001b[91mT\u001b[93mG\u001b[94mC\u001b[92mA\u001b[94mC\u001b[94mC\u001b[93mG\u001b[92mA\u001b[93mG\u001b[92mA\u001b[93mG\u001b[92mA\u001b[93mG\u001b[92mA\u001b[91mT\u001b[93mG\u001b[93mG\u001b[92mA\u001b[92mA\u001b[91mT\u001b[92mA\u001b[92mA\u001b[92mA\u001b[93mG\u001b[94mC\u001b[94mC\u001b[94mC\u001b[91mT\u001b[91mT\u001b[93mG\u001b[92mA\u001b[92mA\u001b[94mC\u001b[94mC\u001b[92mA\u001b[93mG\u001b[94mC\u001b[0;0m 3' DNA String\n",
      "   |||||||||||||||||||||||||||||||||||||||||||||||||||||||||||||||||||||||||||||||||||||||||||||||||||||||||||||||||||||||||||||||||||||||||||||||||||||||||||||||||||||||||||||||||||||||||||||||||||||||||||||||||||||||||||||||||||||||||||||||||||||||||||||||||||||||||||||||||||||||||||||||||||||||||||||||||||||||||||||||||||||||||||||||||||||||||||||||||||||||||||||||||||||||||||||||||||||||||||||||||||||||||||||||||||||||||||||||||||||||||||||||||||||||||||||||||||||||||||||||||||||||||||\n",
      "3' \u001b[91mT\u001b[94mC\u001b[93mG\u001b[93mG\u001b[93mG\u001b[92mA\u001b[93mG\u001b[93mG\u001b[91mT\u001b[94mC\u001b[94mC\u001b[91mT\u001b[93mG\u001b[91mT\u001b[94mC\u001b[94mC\u001b[93mG\u001b[92mA\u001b[94mC\u001b[93mG\u001b[91mT\u001b[92mA\u001b[93mG\u001b[91mT\u001b[94mC\u001b[91mT\u001b[91mT\u001b[94mC\u001b[91mT\u001b[94mC\u001b[94mC\u001b[93mG\u001b[93mG\u001b[91mT\u001b[92mA\u001b[93mG\u001b[91mT\u001b[91mT\u001b[94mC\u001b[93mG\u001b[91mT\u001b[94mC\u001b[94mC\u001b[92mA\u001b[93mG\u001b[92mA\u001b[94mC\u001b[92mA\u001b[92mA\u001b[93mG\u001b[93mG\u001b[91mT\u001b[91mT\u001b[94mC\u001b[94mC\u001b[94mC\u001b[93mG\u001b[93mG\u001b[92mA\u001b[92mA\u001b[92mA\u001b[94mC\u001b[93mG\u001b[94mC\u001b[92mA\u001b[93mG\u001b[91mT\u001b[94mC\u001b[91mT\u001b[92mA\u001b[93mG\u001b[91mT\u001b[93mG\u001b[92mA\u001b[94mC\u001b[92mA\u001b[93mG\u001b[93mG\u001b[92mA\u001b[92mA\u001b[93mG\u001b[92mA\u001b[94mC\u001b[93mG\u001b[93mG\u001b[91mT\u001b[92mA\u001b[94mC\u001b[94mC\u001b[93mG\u001b[93mG\u001b[93mG\u001b[92mA\u001b[94mC\u001b[92mA\u001b[94mC\u001b[94mC\u001b[91mT\u001b[92mA\u001b[94mC\u001b[93mG\u001b[94mC\u001b[93mG\u001b[93mG\u001b[92mA\u001b[93mG\u001b[93mG\u001b[92mA\u001b[94mC\u001b[93mG\u001b[93mG\u001b[93mG\u001b[93mG\u001b[92mA\u001b[94mC\u001b[93mG\u001b[92mA\u001b[94mC\u001b[94mC\u001b[93mG\u001b[94mC\u001b[93mG\u001b[92mA\u001b[94mC\u001b[93mG\u001b[92mA\u001b[94mC\u001b[94mC\u001b[93mG\u001b[93mG\u001b[93mG\u001b[92mA\u001b[93mG\u001b[92mA\u001b[94mC\u001b[94mC\u001b[94mC\u001b[94mC\u001b[91mT\u001b[93mG\u001b[93mG\u001b[92mA\u001b[94mC\u001b[91mT\u001b[93mG\u001b[93mG\u001b[93mG\u001b[91mT\u001b[94mC\u001b[93mG\u001b[93mG\u001b[94mC\u001b[93mG\u001b[91mT\u001b[94mC\u001b[93mG\u001b[93mG\u001b[92mA\u001b[92mA\u001b[92mA\u001b[94mC\u001b[92mA\u001b[94mC\u001b[91mT\u001b[91mT\u001b[93mG\u001b[93mG\u001b[91mT\u001b[91mT\u001b[93mG\u001b[91mT\u001b[93mG\u001b[93mG\u001b[92mA\u001b[94mC\u001b[92mA\u001b[94mC\u001b[93mG\u001b[94mC\u001b[94mC\u001b[93mG\u001b[92mA\u001b[93mG\u001b[91mT\u001b[93mG\u001b[91mT\u001b[93mG\u001b[93mG\u001b[92mA\u001b[94mC\u001b[94mC\u001b[92mA\u001b[94mC\u001b[94mC\u001b[91mT\u001b[91mT\u001b[94mC\u001b[93mG\u001b[92mA\u001b[93mG\u001b[92mA\u001b[93mG\u001b[92mA\u001b[91mT\u001b[93mG\u001b[93mG\u001b[92mA\u001b[91mT\u001b[94mC\u001b[92mA\u001b[94mC\u001b[92mA\u001b[94mC\u001b[93mG\u001b[94mC\u001b[94mC\u001b[94mC\u001b[94mC\u001b[91mT\u001b[91mT\u001b[93mG\u001b[94mC\u001b[91mT\u001b[94mC\u001b[94mC\u001b[93mG\u001b[92mA\u001b[92mA\u001b[93mG\u001b[92mA\u001b[92mA\u001b[93mG\u001b[92mA\u001b[91mT\u001b[93mG\u001b[91mT\u001b[93mG\u001b[91mT\u001b[93mG\u001b[93mG\u001b[93mG\u001b[91mT\u001b[91mT\u001b[94mC\u001b[91mT\u001b[93mG\u001b[93mG\u001b[93mG\u001b[94mC\u001b[93mG\u001b[93mG\u001b[94mC\u001b[94mC\u001b[94mC\u001b[91mT\u001b[94mC\u001b[94mC\u001b[93mG\u001b[91mT\u001b[94mC\u001b[91mT\u001b[94mC\u001b[94mC\u001b[91mT\u001b[93mG\u001b[93mG\u001b[92mA\u001b[94mC\u001b[93mG\u001b[91mT\u001b[94mC\u001b[94mC\u001b[92mA\u001b[94mC\u001b[94mC\u001b[94mC\u001b[94mC\u001b[93mG\u001b[91mT\u001b[94mC\u001b[94mC\u001b[92mA\u001b[94mC\u001b[94mC\u001b[91mT\u001b[94mC\u001b[93mG\u001b[92mA\u001b[94mC\u001b[94mC\u001b[94mC\u001b[93mG\u001b[94mC\u001b[94mC\u001b[94mC\u001b[94mC\u001b[94mC\u001b[93mG\u001b[93mG\u001b[93mG\u001b[92mA\u001b[94mC\u001b[94mC\u001b[92mA\u001b[94mC\u001b[93mG\u001b[91mT\u001b[94mC\u001b[94mC\u001b[93mG\u001b[91mT\u001b[94mC\u001b[93mG\u001b[93mG\u001b[92mA\u001b[94mC\u001b[93mG\u001b[91mT\u001b[94mC\u001b[93mG\u001b[93mG\u001b[93mG\u001b[92mA\u001b[92mA\u001b[94mC\u001b[94mC\u001b[93mG\u001b[93mG\u001b[93mG\u001b[92mA\u001b[94mC\u001b[94mC\u001b[91mT\u001b[94mC\u001b[94mC\u001b[94mC\u001b[94mC\u001b[92mA\u001b[93mG\u001b[93mG\u001b[93mG\u001b[92mA\u001b[94mC\u001b[93mG\u001b[91mT\u001b[94mC\u001b[91mT\u001b[91mT\u001b[94mC\u001b[93mG\u001b[94mC\u001b[92mA\u001b[94mC\u001b[94mC\u001b[93mG\u001b[91mT\u001b[92mA\u001b[92mA\u001b[94mC\u001b[92mA\u001b[94mC\u001b[94mC\u001b[91mT\u001b[91mT\u001b[93mG\u001b[91mT\u001b[91mT\u001b[92mA\u001b[94mC\u001b[93mG\u001b[92mA\u001b[94mC\u001b[92mA\u001b[91mT\u001b[93mG\u001b[93mG\u001b[91mT\u001b[94mC\u001b[93mG\u001b[91mT\u001b[92mA\u001b[93mG\u001b[92mA\u001b[94mC\u001b[93mG\u001b[92mA\u001b[93mG\u001b[93mG\u001b[93mG\u001b[92mA\u001b[93mG\u001b[92mA\u001b[91mT\u001b[93mG\u001b[93mG\u001b[91mT\u001b[94mC\u001b[93mG\u001b[92mA\u001b[94mC\u001b[94mC\u001b[91mT\u001b[94mC\u001b[91mT\u001b[91mT\u001b[93mG\u001b[92mA\u001b[91mT\u001b[93mG\u001b[92mA\u001b[94mC\u001b[93mG\u001b[91mT\u001b[91mT\u001b[93mG\u001b[92mA\u001b[91mT\u001b[94mC\u001b[91mT\u001b[93mG\u001b[94mC\u001b[93mG\u001b[91mT\u001b[94mC\u001b[93mG\u001b[93mG\u001b[93mG\u001b[94mC\u001b[93mG\u001b[91mT\u001b[94mC\u001b[94mC\u001b[93mG\u001b[91mT\u001b[94mC\u001b[93mG\u001b[93mG\u001b[93mG\u001b[93mG\u001b[91mT\u001b[93mG\u001b[91mT\u001b[93mG\u001b[93mG\u001b[93mG\u001b[94mC\u001b[93mG\u001b[93mG\u001b[94mC\u001b[93mG\u001b[93mG\u001b[92mA\u001b[93mG\u001b[93mG\u001b[92mA\u001b[94mC\u001b[93mG\u001b[91mT\u001b[93mG\u001b[93mG\u001b[94mC\u001b[91mT\u001b[94mC\u001b[91mT\u001b[94mC\u001b[91mT\u001b[94mC\u001b[91mT\u001b[92mA\u001b[94mC\u001b[94mC\u001b[91mT\u001b[91mT\u001b[92mA\u001b[91mT\u001b[91mT\u001b[91mT\u001b[94mC\u001b[93mG\u001b[93mG\u001b[93mG\u001b[92mA\u001b[92mA\u001b[94mC\u001b[91mT\u001b[91mT\u001b[93mG\u001b[93mG\u001b[91mT\u001b[94mC\u001b[93mG\u001b[0;0m 5' Complement\n",
      "5' \u001b[93mG\u001b[94mC\u001b[91mT\u001b[93mG\u001b[93mG\u001b[91mT\u001b[91mT\u001b[94mC\u001b[92mA\u001b[92mA\u001b[93mG\u001b[93mG\u001b[93mG\u001b[94mC\u001b[91mT\u001b[91mT\u001b[91mT\u001b[92mA\u001b[91mT\u001b[91mT\u001b[94mC\u001b[94mC\u001b[92mA\u001b[91mT\u001b[94mC\u001b[91mT\u001b[94mC\u001b[91mT\u001b[94mC\u001b[91mT\u001b[94mC\u001b[93mG\u001b[93mG\u001b[91mT\u001b[93mG\u001b[94mC\u001b[92mA\u001b[93mG\u001b[93mG\u001b[92mA\u001b[93mG\u001b[93mG\u001b[94mC\u001b[93mG\u001b[93mG\u001b[94mC\u001b[93mG\u001b[93mG\u001b[93mG\u001b[91mT\u001b[93mG\u001b[91mT\u001b[93mG\u001b[93mG\u001b[93mG\u001b[93mG\u001b[94mC\u001b[91mT\u001b[93mG\u001b[94mC\u001b[94mC\u001b[91mT\u001b[93mG\u001b[94mC\u001b[93mG\u001b[93mG\u001b[93mG\u001b[94mC\u001b[91mT\u001b[93mG\u001b[94mC\u001b[93mG\u001b[91mT\u001b[94mC\u001b[91mT\u001b[92mA\u001b[93mG\u001b[91mT\u001b[91mT\u001b[93mG\u001b[94mC\u001b[92mA\u001b[93mG\u001b[91mT\u001b[92mA\u001b[93mG\u001b[91mT\u001b[91mT\u001b[94mC\u001b[91mT\u001b[94mC\u001b[94mC\u001b[92mA\u001b[93mG\u001b[94mC\u001b[91mT\u001b[93mG\u001b[93mG\u001b[91mT\u001b[92mA\u001b[93mG\u001b[92mA\u001b[93mG\u001b[93mG\u001b[93mG\u001b[92mA\u001b[93mG\u001b[94mC\u001b[92mA\u001b[93mG\u001b[92mA\u001b[91mT\u001b[93mG\u001b[94mC\u001b[91mT\u001b[93mG\u001b[93mG\u001b[91mT\u001b[92mA\u001b[94mC\u001b[92mA\u001b[93mG\u001b[94mC\u001b[92mA\u001b[91mT\u001b[91mT\u001b[93mG\u001b[91mT\u001b[91mT\u001b[94mC\u001b[94mC\u001b[92mA\u001b[94mC\u001b[92mA\u001b[92mA\u001b[91mT\u001b[93mG\u001b[94mC\u001b[94mC\u001b[92mA\u001b[94mC\u001b[93mG\u001b[94mC\u001b[91mT\u001b[91mT\u001b[94mC\u001b[91mT\u001b[93mG\u001b[94mC\u001b[92mA\u001b[93mG\u001b[93mG\u001b[93mG\u001b[92mA\u001b[94mC\u001b[94mC\u001b[94mC\u001b[94mC\u001b[91mT\u001b[94mC\u001b[94mC\u001b[92mA\u001b[93mG\u001b[93mG\u001b[93mG\u001b[94mC\u001b[94mC\u001b[92mA\u001b[92mA\u001b[93mG\u001b[93mG\u001b[93mG\u001b[94mC\u001b[91mT\u001b[93mG\u001b[94mC\u001b[92mA\u001b[93mG\u001b[93mG\u001b[94mC\u001b[91mT\u001b[93mG\u001b[94mC\u001b[94mC\u001b[91mT\u001b[93mG\u001b[94mC\u001b[92mA\u001b[94mC\u001b[94mC\u001b[92mA\u001b[93mG\u001b[93mG\u001b[93mG\u001b[94mC\u001b[94mC\u001b[94mC\u001b[94mC\u001b[94mC\u001b[93mG\u001b[94mC\u001b[94mC\u001b[94mC\u001b[92mA\u001b[93mG\u001b[94mC\u001b[91mT\u001b[94mC\u001b[94mC\u001b[92mA\u001b[94mC\u001b[94mC\u001b[91mT\u001b[93mG\u001b[94mC\u001b[94mC\u001b[94mC\u001b[94mC\u001b[92mA\u001b[94mC\u001b[94mC\u001b[91mT\u001b[93mG\u001b[94mC\u001b[92mA\u001b[93mG\u001b[93mG\u001b[91mT\u001b[94mC\u001b[94mC\u001b[91mT\u001b[94mC\u001b[91mT\u001b[93mG\u001b[94mC\u001b[94mC\u001b[91mT\u001b[94mC\u001b[94mC\u001b[94mC\u001b[93mG\u001b[93mG\u001b[94mC\u001b[93mG\u001b[93mG\u001b[93mG\u001b[91mT\u001b[94mC\u001b[91mT\u001b[91mT\u001b[93mG\u001b[93mG\u001b[93mG\u001b[91mT\u001b[93mG\u001b[91mT\u001b[93mG\u001b[91mT\u001b[92mA\u001b[93mG\u001b[92mA\u001b[92mA\u001b[93mG\u001b[92mA\u001b[92mA\u001b[93mG\u001b[94mC\u001b[94mC\u001b[91mT\u001b[94mC\u001b[93mG\u001b[91mT\u001b[91mT\u001b[94mC\u001b[94mC\u001b[94mC\u001b[94mC\u001b[93mG\u001b[94mC\u001b[92mA\u001b[94mC\u001b[92mA\u001b[94mC\u001b[91mT\u001b[92mA\u001b[93mG\u001b[93mG\u001b[91mT\u001b[92mA\u001b[93mG\u001b[92mA\u001b[93mG\u001b[92mA\u001b[93mG\u001b[94mC\u001b[91mT\u001b[91mT\u001b[94mC\u001b[94mC\u001b[92mA\u001b[94mC\u001b[94mC\u001b[92mA\u001b[93mG\u001b[93mG\u001b[91mT\u001b[93mG\u001b[91mT\u001b[93mG\u001b[92mA\u001b[93mG\u001b[94mC\u001b[94mC\u001b[93mG\u001b[94mC\u001b[92mA\u001b[94mC\u001b[92mA\u001b[93mG\u001b[93mG\u001b[91mT\u001b[93mG\u001b[91mT\u001b[91mT\u001b[93mG\u001b[93mG\u001b[91mT\u001b[91mT\u001b[94mC\u001b[92mA\u001b[94mC\u001b[92mA\u001b[92mA\u001b[92mA\u001b[93mG\u001b[93mG\u001b[94mC\u001b[91mT\u001b[93mG\u001b[94mC\u001b[93mG\u001b[93mG\u001b[94mC\u001b[91mT\u001b[93mG\u001b[93mG\u001b[93mG\u001b[91mT\u001b[94mC\u001b[92mA\u001b[93mG\u001b[93mG\u001b[91mT\u001b[94mC\u001b[94mC\u001b[94mC\u001b[94mC\u001b[92mA\u001b[93mG\u001b[92mA\u001b[93mG\u001b[93mG\u001b[93mG\u001b[94mC\u001b[94mC\u001b[92mA\u001b[93mG\u001b[94mC\u001b[92mA\u001b[93mG\u001b[94mC\u001b[93mG\u001b[94mC\u001b[94mC\u001b[92mA\u001b[93mG\u001b[94mC\u001b[92mA\u001b[93mG\u001b[93mG\u001b[93mG\u001b[93mG\u001b[94mC\u001b[92mA\u001b[93mG\u001b[93mG\u001b[92mA\u001b[93mG\u001b[93mG\u001b[94mC\u001b[93mG\u001b[94mC\u001b[92mA\u001b[91mT\u001b[94mC\u001b[94mC\u001b[92mA\u001b[94mC\u001b[92mA\u001b[93mG\u001b[93mG\u001b[93mG\u001b[94mC\u001b[94mC\u001b[92mA\u001b[91mT\u001b[93mG\u001b[93mG\u001b[94mC\u001b[92mA\u001b[93mG\u001b[92mA\u001b[92mA\u001b[93mG\u001b[93mG\u001b[92mA\u001b[94mC\u001b[92mA\u001b[93mG\u001b[91mT\u001b[93mG\u001b[92mA\u001b[91mT\u001b[94mC\u001b[91mT\u001b[93mG\u001b[92mA\u001b[94mC\u001b[93mG\u001b[94mC\u001b[92mA\u001b[92mA\u001b[92mA\u001b[93mG\u001b[93mG\u001b[94mC\u001b[94mC\u001b[94mC\u001b[91mT\u001b[91mT\u001b[93mG\u001b[93mG\u001b[92mA\u001b[92mA\u001b[94mC\u001b[92mA\u001b[93mG\u001b[92mA\u001b[94mC\u001b[94mC\u001b[91mT\u001b[93mG\u001b[94mC\u001b[91mT\u001b[91mT\u001b[93mG\u001b[92mA\u001b[91mT\u001b[93mG\u001b[93mG\u001b[94mC\u001b[94mC\u001b[91mT\u001b[94mC\u001b[91mT\u001b[91mT\u001b[94mC\u001b[91mT\u001b[93mG\u001b[92mA\u001b[91mT\u001b[93mG\u001b[94mC\u001b[92mA\u001b[93mG\u001b[94mC\u001b[94mC\u001b[91mT\u001b[93mG\u001b[91mT\u001b[94mC\u001b[94mC\u001b[91mT\u001b[93mG\u001b[93mG\u001b[92mA\u001b[93mG\u001b[93mG\u001b[93mG\u001b[94mC\u001b[91mT\u001b[0;0m 3' Reverse Complement\n",
      "\n"
     ]
    }
   ],
   "source": [
    "print(colored(DNAStr))\n",
    "print(f\"\\nDNA String + Complement + Reverse Complement:\\n\\n5' {colored(DNAStr)} 3' DNA String\")\n",
    "print(f\"   {''.join(['|' for c in range(len(DNAStr))])}\")\n",
    "print(f\"3' {colored(Reverse_Complement(DNAStr)[::-1])} 5' Complement\")\n",
    "print(f\"5' {colored(Reverse_Complement(DNAStr))} 3' Reverse Complement\\n\")"
   ]
  },
  {
   "cell_type": "code",
   "execution_count": 19,
   "id": "0b4684cc",
   "metadata": {},
   "outputs": [
    {
     "name": "stdout",
     "output_type": "stream",
     "text": [
      "GC Content: 64%\n"
     ]
    }
   ],
   "source": [
    "print(f'GC Content: {gc_content(DNAStr)}%')"
   ]
  },
  {
   "cell_type": "code",
   "execution_count": 20,
   "id": "b5654c26",
   "metadata": {},
   "outputs": [
    {
     "name": "stdout",
     "output_type": "stream",
     "text": [
      "GC Content: [70, 70, 40, 60, 50, 60, 50, 50, 70, 60, 80, 80, 80, 70, 70, 60, 50, 70, 60, 60, 40, 70, 60, 50, 70, 80, 60, 80, 70, 100, 70, 70, 70, 80, 60, 50, 50, 50, 60, 60, 40, 50, 80, 80, 90, 70, 50, 40, 50]%\n"
     ]
    }
   ],
   "source": [
    "print(f'GC Content: {gc_content_subsec(DNAStr, k = 10)}%')"
   ]
  },
  {
   "cell_type": "code",
   "execution_count": 21,
   "id": "0ab24745",
   "metadata": {},
   "outputs": [
    {
     "name": "stdout",
     "output_type": "stream",
     "text": [
      "Aminoacid sequence from DNA: ['S', 'P', 'P', 'G', 'Q', 'A', 'A', 'S', 'E', 'E', 'A', 'I', 'K', 'Q', 'V', 'C', 'S', 'K', 'G', 'L', 'C', 'V', 'R', 'S', 'L', 'S', 'F', 'C', 'H', 'G', 'P', 'V', 'D', 'A', 'P', 'P', 'A', 'P', 'A', 'G', 'A', 'A', 'G', 'P', 'L', 'G', 'T', '_', 'P', 'S', 'R', 'S', 'L', 'C', 'E', 'P', 'T', 'P', 'V', 'R', 'L', 'T', 'P', 'G', 'G', 'S', 'S', 'L', 'P', 'S', 'V', 'R', 'G', 'T', 'R', 'L', 'L', 'L', 'H', 'T', 'Q', 'D', 'P', 'P', 'G', 'G', 'R', 'G', 'P', 'A', 'G', 'G', 'A', 'G', 'G', 'A', 'G', 'R', 'G', 'P', 'W', 'C', 'R', 'Q', 'P', 'A', 'A', 'L', 'G', 'P', 'G', 'G', 'V', 'P', 'A', 'E', 'A', 'W', 'H', 'C', 'G', 'T', 'M', 'L', 'Y', 'Q', 'H', 'L', 'L', 'P', 'L', 'P', 'A', 'G', 'E', 'L', 'L', 'Q', 'L', 'D', 'A', 'A', 'R', 'R', 'Q', 'P', 'H', 'T', 'R', 'R', 'L', 'L', 'H', 'R', 'E', 'R', 'W', 'N', 'K', 'A', 'L', 'E', 'P']\n"
     ]
    }
   ],
   "source": [
    "print(f'Aminoacid sequence from DNA: {translate_seq(DNAStr)}')"
   ]
  },
  {
   "cell_type": "code",
   "execution_count": 22,
   "id": "6ddea828",
   "metadata": {},
   "outputs": [
    {
     "name": "stdout",
     "output_type": "stream",
     "text": [
      " Codon frequency (T): {'ACC': 0.43, 'ACA': 0.43, 'ACG': 0.14} \n"
     ]
    }
   ],
   "source": [
    "print(f' Codon frequency (T): {codon_usage(DNAStr, \"T\")} ')"
   ]
  },
  {
   "cell_type": "code",
   "execution_count": 23,
   "id": "20b1e296",
   "metadata": {},
   "outputs": [
    {
     "name": "stdout",
     "output_type": "stream",
     "text": [
      "Reading frames:\n",
      "['S', 'P', 'P', 'G', 'Q', 'A', 'A', 'S', 'E', 'E', 'A', 'I', 'K', 'Q', 'V', 'C', 'S', 'K', 'G', 'L', 'C', 'V', 'R', 'S', 'L', 'S', 'F', 'C', 'H', 'G', 'P', 'V', 'D', 'A', 'P', 'P', 'A', 'P', 'A', 'G', 'A', 'A', 'G', 'P', 'L', 'G', 'T', '_', 'P', 'S', 'R', 'S', 'L', 'C', 'E', 'P', 'T', 'P', 'V', 'R', 'L', 'T', 'P', 'G', 'G', 'S', 'S', 'L', 'P', 'S', 'V', 'R', 'G', 'T', 'R', 'L', 'L', 'L', 'H', 'T', 'Q', 'D', 'P', 'P', 'G', 'G', 'R', 'G', 'P', 'A', 'G', 'G', 'A', 'G', 'G', 'A', 'G', 'R', 'G', 'P', 'W', 'C', 'R', 'Q', 'P', 'A', 'A', 'L', 'G', 'P', 'G', 'G', 'V', 'P', 'A', 'E', 'A', 'W', 'H', 'C', 'G', 'T', 'M', 'L', 'Y', 'Q', 'H', 'L', 'L', 'P', 'L', 'P', 'A', 'G', 'E', 'L', 'L', 'Q', 'L', 'D', 'A', 'A', 'R', 'R', 'Q', 'P', 'H', 'T', 'R', 'R', 'L', 'L', 'H', 'R', 'E', 'R', 'W', 'N', 'K', 'A', 'L', 'E', 'P']\n",
      "['A', 'L', 'Q', 'D', 'R', 'L', 'H', 'Q', 'K', 'R', 'P', 'S', 'S', 'R', 'S', 'V', 'P', 'R', 'A', 'F', 'A', 'S', 'D', 'H', 'C', 'P', 'S', 'A', 'M', 'A', 'L', 'W', 'M', 'R', 'L', 'L', 'P', 'L', 'L', 'A', 'L', 'L', 'A', 'L', 'W', 'G', 'P', 'D', 'P', 'A', 'A', 'A', 'F', 'V', 'N', 'Q', 'H', 'L', 'C', 'G', 'S', 'H', 'L', 'V', 'E', 'A', 'L', 'Y', 'L', 'V', 'C', 'G', 'E', 'R', 'G', 'F', 'F', 'Y', 'T', 'P', 'K', 'T', 'R', 'R', 'E', 'A', 'E', 'D', 'L', 'Q', 'V', 'G', 'Q', 'V', 'E', 'L', 'G', 'G', 'G', 'P', 'G', 'A', 'G', 'S', 'L', 'Q', 'P', 'L', 'A', 'L', 'E', 'G', 'S', 'L', 'Q', 'K', 'R', 'G', 'I', 'V', 'E', 'Q', 'C', 'C', 'T', 'S', 'I', 'C', 'S', 'L', 'Y', 'Q', 'L', 'E', 'N', 'Y', 'C', 'N', '_', 'T', 'Q', 'P', 'A', 'G', 'S', 'P', 'T', 'P', 'A', 'A', 'S', 'C', 'T', 'E', 'R', 'D', 'G', 'I', 'K', 'P', 'L', 'N', 'Q']\n",
      "['P', 'S', 'R', 'T', 'G', 'C', 'I', 'R', 'R', 'G', 'H', 'Q', 'A', 'G', 'L', 'F', 'Q', 'G', 'P', 'L', 'R', 'Q', 'I', 'T', 'V', 'L', 'L', 'P', 'W', 'P', 'C', 'G', 'C', 'A', 'S', 'C', 'P', 'C', 'W', 'R', 'C', 'W', 'P', 'S', 'G', 'D', 'L', 'T', 'Q', 'P', 'Q', 'P', 'L', '_', 'T', 'N', 'T', 'C', 'A', 'A', 'H', 'T', 'W', 'W', 'K', 'L', 'S', 'T', '_', 'C', 'A', 'G', 'N', 'E', 'A', 'S', 'S', 'T', 'H', 'P', 'R', 'P', 'A', 'G', 'R', 'Q', 'R', 'T', 'C', 'R', 'W', 'G', 'R', 'W', 'S', 'W', 'A', 'G', 'A', 'L', 'V', 'Q', 'A', 'A', 'C', 'S', 'P', 'W', 'P', 'W', 'R', 'G', 'P', 'C', 'R', 'S', 'V', 'A', 'L', 'W', 'N', 'N', 'A', 'V', 'P', 'A', 'S', 'A', 'P', 'S', 'T', 'S', 'W', 'R', 'T', 'T', 'A', 'T', 'R', 'R', 'S', 'P', 'Q', 'A', 'A', 'P', 'H', 'P', 'P', 'P', 'P', 'A', 'P', 'R', 'E', 'M', 'E', '_', 'S', 'P', '_', 'T', 'S']\n",
      "['A', 'G', 'S', 'R', 'A', 'L', 'F', 'H', 'L', 'S', 'R', 'C', 'R', 'R', 'R', 'R', 'V', 'W', 'G', 'C', 'L', 'R', 'A', 'A', 'S', 'S', 'C', 'S', 'S', 'S', 'P', 'A', 'G', 'R', 'G', 'S', 'R', 'C', 'W', 'Y', 'S', 'I', 'V', 'P', 'Q', 'C', 'H', 'A', 'S', 'A', 'G', 'T', 'P', 'P', 'G', 'P', 'R', 'A', 'A', 'G', 'C', 'L', 'H', 'Q', 'G', 'P', 'R', 'P', 'A', 'P', 'P', 'A', 'P', 'P', 'A', 'G', 'P', 'L', 'P', 'P', 'G', 'G', 'S', 'W', 'V', 'C', 'R', 'R', 'S', 'L', 'V', 'P', 'R', 'T', 'L', 'G', 'R', 'E', 'L', 'P', 'P', 'G', 'V', 'S', 'R', 'T', 'G', 'V', 'G', 'S', 'Q', 'R', 'L', 'R', 'L', 'G', 'Q', 'V', 'P', 'R', 'G', 'P', 'A', 'A', 'P', 'A', 'G', 'A', 'G', 'G', 'A', 'S', 'T', 'G', 'P', 'W', 'Q', 'K', 'D', 'S', 'D', 'L', 'T', 'Q', 'R', 'P', 'L', 'E', 'Q', 'T', 'C', 'L', 'M', 'A', 'S', 'S', 'D', 'A', 'A', 'C', 'P', 'G', 'G']\n",
      "['L', 'V', 'Q', 'G', 'L', 'Y', 'S', 'I', 'S', 'L', 'G', 'A', 'G', 'G', 'G', 'G', 'C', 'G', 'A', 'A', 'C', 'G', 'L', 'R', 'L', 'V', 'A', 'V', 'V', 'L', 'Q', 'L', 'V', 'E', 'G', 'A', 'D', 'A', 'G', 'T', 'A', 'L', 'F', 'H', 'N', 'A', 'T', 'L', 'L', 'Q', 'G', 'P', 'L', 'Q', 'G', 'Q', 'G', 'L', 'Q', 'A', 'A', 'C', 'T', 'R', 'A', 'P', 'A', 'Q', 'L', 'H', 'L', 'P', 'H', 'L', 'Q', 'V', 'L', 'C', 'L', 'P', 'A', 'G', 'L', 'G', 'C', 'V', 'E', 'E', 'A', 'S', 'F', 'P', 'A', 'H', '_', 'V', 'E', 'S', 'F', 'H', 'Q', 'V', '_', 'A', 'A', 'Q', 'V', 'L', 'V', 'H', 'K', 'G', 'C', 'G', 'W', 'V', 'R', 'S', 'P', 'E', 'G', 'Q', 'Q', 'R', 'Q', 'Q', 'G', 'Q', 'E', 'A', 'H', 'P', 'Q', 'G', 'H', 'G', 'R', 'R', 'T', 'V', 'I', '_', 'R', 'K', 'G', 'P', 'W', 'N', 'R', 'P', 'A', '_', 'W', 'P', 'L', 'L', 'M', 'Q', 'P', 'V', 'L', 'E', 'G']\n",
      "['W', 'F', 'K', 'G', 'F', 'I', 'P', 'S', 'L', 'S', 'V', 'Q', 'E', 'A', 'A', 'G', 'V', 'G', 'L', 'P', 'A', 'G', 'C', 'V', '_', 'L', 'Q', '_', 'F', 'S', 'S', 'W', '_', 'R', 'E', 'Q', 'M', 'L', 'V', 'Q', 'H', 'C', 'S', 'T', 'M', 'P', 'R', 'F', 'C', 'R', 'D', 'P', 'S', 'R', 'A', 'K', 'G', 'C', 'R', 'L', 'P', 'A', 'P', 'G', 'P', 'P', 'P', 'S', 'S', 'T', 'C', 'P', 'T', 'C', 'R', 'S', 'S', 'A', 'S', 'R', 'R', 'V', 'L', 'G', 'V', '_', 'K', 'K', 'P', 'R', 'S', 'P', 'H', 'T', 'R', '_', 'R', 'A', 'S', 'T', 'R', 'C', 'E', 'P', 'H', 'R', 'C', 'W', 'F', 'T', 'K', 'A', 'A', 'A', 'G', 'S', 'G', 'P', 'Q', 'R', 'A', 'S', 'S', 'A', 'S', 'R', 'G', 'R', 'R', 'R', 'I', 'H', 'R', 'A', 'M', 'A', 'E', 'G', 'Q', '_', 'S', 'D', 'A', 'K', 'A', 'L', 'G', 'T', 'D', 'L', 'L', 'D', 'G', 'L', 'F', '_', 'C', 'S', 'L', 'S', 'W', 'R', 'A']\n"
     ]
    }
   ],
   "source": [
    "print('Reading frames:')\n",
    "for frame in open_reading_frames(DNAStr):\n",
    "    print(frame)"
   ]
  },
  {
   "cell_type": "code",
   "execution_count": 25,
   "id": "7b39e7a2",
   "metadata": {},
   "outputs": [
    {
     "name": "stdout",
     "output_type": "stream",
     "text": [
      "All proteins in 6 open reading frames:\n",
      "MALWMRLLPLLALLALWGPDPAAAFVNQHLCGSHLVEALYLVCGERGFFYTPKTRREAEDLQVGQVELGGGPGAGSLQPLALEGSLQKRGIVEQCCTSICSLYQLENYCN\n",
      "Insulin found!\n",
      "MRLLPLLALLALWGPDPAAAFVNQHLCGSHLVEALYLVCGERGFFYTPKTRREAEDLQVGQVELGGGPGAGSLQPLALEGSLQKRGIVEQCCTSICSLYQLENYCN\n",
      "MLVQHCSTMPRFCRDPSRAKGCRLPAPGPPPSSTCPTCRSSASRRVLGV\n",
      "MPRFCRDPSRAKGCRLPAPGPPPSSTCPTCRSSASRRVLGV\n",
      "MAEGQ\n",
      "ME\n"
     ]
    }
   ],
   "source": [
    "# Finding proteins in DNA sequence:\n",
    "print('All proteins in 6 open reading frames:')\n",
    "for prot in all_proteins_from_orfs(DNAStr, 0, 0, True):\n",
    "    print(f'{prot}')\n",
    "    if prot == 'MALWMRLLPLLALLALWGPDPAAAFVNQHLCGSHLVEALYLVCGERGFFYTPKTRREAEDLQVGQVELGGGPGAGSLQPLALEGSLQKRGIVEQCCTSICSLYQLENYCN':\n",
    "        print('Insulin found!')"
   ]
  }
 ],
 "metadata": {
  "kernelspec": {
   "display_name": "Python 3 (ipykernel)",
   "language": "python",
   "name": "python3"
  },
  "language_info": {
   "codemirror_mode": {
    "name": "ipython",
    "version": 3
   },
   "file_extension": ".py",
   "mimetype": "text/x-python",
   "name": "python",
   "nbconvert_exporter": "python",
   "pygments_lexer": "ipython3",
   "version": "3.9.17"
  }
 },
 "nbformat": 4,
 "nbformat_minor": 5
}
