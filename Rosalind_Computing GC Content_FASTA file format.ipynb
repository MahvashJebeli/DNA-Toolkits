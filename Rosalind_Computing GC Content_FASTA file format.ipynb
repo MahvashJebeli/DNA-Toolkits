{
 "cells": [
  {
   "cell_type": "code",
   "execution_count": null,
   "id": "d1fddcee",
   "metadata": {},
   "outputs": [],
   "source": [
    "# Rosalind_Computing GC Content"
   ]
  },
  {
   "cell_type": "code",
   "execution_count": 25,
   "id": "acddf066",
   "metadata": {},
   "outputs": [],
   "source": [
    "# Read FASTA format file\n",
    "def readFile(filePath):\n",
    "    \"\"\"Reading the file and returning a list of lines\"\"\"\n",
    "    with open(filePath, 'r') as f:\n",
    "        return [l.strip() for l in f.readlines()]\n",
    "    \n",
    "# Storing file content in a list\n",
    "FASTAfile = readFile(\"rosalind_gc.txt\")\n",
    "# making a Dict for labels and the data\n",
    "FASTAdict = {}\n",
    "# string for holding the current label\n",
    "FASTAlabel = \"\""
   ]
  },
  {
   "cell_type": "code",
   "execution_count": 26,
   "id": "4c866877",
   "metadata": {},
   "outputs": [],
   "source": [
    "# Clean the data\n",
    "\n",
    "# Converting FASTAlist into a dictionary\n",
    "for line in FASTAfile:\n",
    "    if '>' in line:\n",
    "        FASTAlabel = line\n",
    "        FASTAdict[FASTAlabel] = \"\"\n",
    "    else:\n",
    "        FASTAdict[FASTAlabel] += line"
   ]
  },
  {
   "cell_type": "code",
   "execution_count": 27,
   "id": "404aa294",
   "metadata": {},
   "outputs": [],
   "source": [
    "# Run operations\n",
    "\n",
    "# GC-content Calculations\n",
    "def gc_content(seq):\n",
    "    \"\"\"GC content in DNA/RNA sequence\"\"\"\n",
    "    return ((seq.count('C') + seq.count('G'))/len(seq)*100)\n",
    "\n",
    "# Format the data\n",
    "ResultDict = {key: gc_content(value) for (key,value) in FASTAdict.items()}\n",
    "# print(ResultDict)"
   ]
  },
  {
   "cell_type": "code",
   "execution_count": 28,
   "id": "ae97cb4f",
   "metadata": {},
   "outputs": [],
   "source": [
    "# Collect results\n",
    "MaxgcContent = max(ResultDict, key=ResultDict.get)"
   ]
  },
  {
   "cell_type": "code",
   "execution_count": 33,
   "id": "c738bd01",
   "metadata": {},
   "outputs": [
    {
     "name": "stdout",
     "output_type": "stream",
     "text": [
      "Rosalind_7638\n",
      "53.00546448087432\n"
     ]
    }
   ],
   "source": [
    "print(f'{MaxgcContent[1:]}\\n{ResultDict[MaxgcContent]}')"
   ]
  },
  {
   "cell_type": "code",
   "execution_count": null,
   "id": "4c6a9855",
   "metadata": {},
   "outputs": [],
   "source": []
  }
 ],
 "metadata": {
  "kernelspec": {
   "display_name": "Python 3 (ipykernel)",
   "language": "python",
   "name": "python3"
  },
  "language_info": {
   "codemirror_mode": {
    "name": "ipython",
    "version": 3
   },
   "file_extension": ".py",
   "mimetype": "text/x-python",
   "name": "python",
   "nbconvert_exporter": "python",
   "pygments_lexer": "ipython3",
   "version": "3.9.17"
  }
 },
 "nbformat": 4,
 "nbformat_minor": 5
}
